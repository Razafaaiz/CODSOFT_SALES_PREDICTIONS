{
 "cells": [
  {
   "cell_type": "markdown",
   "metadata": {},
   "source": [
    "SALES PREDICTION USING PYTHON\n",
    "\n",
    "Sales prediction involves forecasting the amount of a product that\n",
    "customers will purchase, taking into account various factors such as\n",
    "advertising expenditure, target audience segmentation, and\n",
    "advertising platform selection.\n",
    "In businesses that offer products or services, the role of a Data\n",
    "Scientist is crucial for predicting future sales. They utilize machine\n",
    "learning techniques in Python to analyze and interpret data, allowing\n",
    "them to make informed decisions regarding advertising costs. By\n",
    "leveraging these predictions, businesses can optimize their\n",
    "advertising strategies and maximize sales potential. Let's embark on\n",
    "the journey of sales prediction using machine learning in Python."
   ]
  },
  {
   "cell_type": "code",
   "execution_count": 3,
   "metadata": {},
   "outputs": [
    {
     "name": "stdout",
     "output_type": "stream",
     "text": [
      "Collecting xgboost\n",
      "  Downloading xgboost-2.1.4-py3-none-win_amd64.whl.metadata (2.1 kB)\n",
      "Requirement already satisfied: numpy in c:\\users\\emc\\python b\\venv\\lib\\site-packages (from xgboost) (2.2.2)\n",
      "Requirement already satisfied: scipy in c:\\users\\emc\\python b\\venv\\lib\\site-packages (from xgboost) (1.15.1)\n",
      "Downloading xgboost-2.1.4-py3-none-win_amd64.whl (124.9 MB)\n",
      "   ---------------------------------------- 0.0/124.9 MB ? eta -:--:--\n",
      "   ---------------------------------------- 0.0/124.9 MB ? eta -:--:--\n",
      "   ---------------------------------------- 0.5/124.9 MB 1.7 MB/s eta 0:01:15\n",
      "   ---------------------------------------- 0.8/124.9 MB 1.8 MB/s eta 0:01:11\n",
      "    --------------------------------------- 1.6/124.9 MB 2.0 MB/s eta 0:01:01\n",
      "    --------------------------------------- 2.1/124.9 MB 2.3 MB/s eta 0:00:55\n",
      "    --------------------------------------- 2.9/124.9 MB 2.5 MB/s eta 0:00:49\n",
      "   - -------------------------------------- 3.7/124.9 MB 2.8 MB/s eta 0:00:44\n",
      "   - -------------------------------------- 4.7/124.9 MB 3.0 MB/s eta 0:00:41\n",
      "   - -------------------------------------- 6.0/124.9 MB 3.4 MB/s eta 0:00:36\n",
      "   -- ------------------------------------- 7.1/124.9 MB 3.6 MB/s eta 0:00:33\n",
      "   -- ------------------------------------- 8.7/124.9 MB 4.0 MB/s eta 0:00:30\n",
      "   --- ------------------------------------ 10.5/124.9 MB 4.3 MB/s eta 0:00:27\n",
      "   ---- ----------------------------------- 12.6/124.9 MB 4.8 MB/s eta 0:00:24\n",
      "   ---- ----------------------------------- 14.7/124.9 MB 5.2 MB/s eta 0:00:22\n",
      "   ----- ---------------------------------- 17.3/124.9 MB 5.6 MB/s eta 0:00:20\n",
      "   ------ --------------------------------- 20.2/124.9 MB 6.2 MB/s eta 0:00:17\n",
      "   ------- -------------------------------- 22.0/124.9 MB 6.4 MB/s eta 0:00:17\n",
      "   ------- -------------------------------- 23.9/124.9 MB 6.5 MB/s eta 0:00:16\n",
      "   -------- ------------------------------- 26.5/124.9 MB 6.8 MB/s eta 0:00:15\n",
      "   --------- ------------------------------ 29.9/124.9 MB 7.3 MB/s eta 0:00:14\n",
      "   ---------- ----------------------------- 32.8/124.9 MB 7.6 MB/s eta 0:00:13\n",
      "   ----------- ---------------------------- 35.4/124.9 MB 7.9 MB/s eta 0:00:12\n",
      "   ------------ --------------------------- 38.0/124.9 MB 8.0 MB/s eta 0:00:11\n",
      "   ------------- -------------------------- 41.2/124.9 MB 8.3 MB/s eta 0:00:11\n",
      "   -------------- ------------------------- 44.3/124.9 MB 8.6 MB/s eta 0:00:10\n",
      "   -------------- ------------------------- 46.7/124.9 MB 8.7 MB/s eta 0:00:10\n",
      "   --------------- ------------------------ 49.5/124.9 MB 8.9 MB/s eta 0:00:09\n",
      "   ---------------- ----------------------- 51.9/124.9 MB 9.0 MB/s eta 0:00:09\n",
      "   ----------------- ---------------------- 55.6/124.9 MB 9.2 MB/s eta 0:00:08\n",
      "   ------------------ --------------------- 58.7/124.9 MB 9.4 MB/s eta 0:00:08\n",
      "   ------------------- -------------------- 61.9/124.9 MB 9.6 MB/s eta 0:00:07\n",
      "   -------------------- ------------------- 63.7/124.9 MB 9.6 MB/s eta 0:00:07\n",
      "   --------------------- ------------------ 66.3/124.9 MB 9.7 MB/s eta 0:00:07\n",
      "   ---------------------- ----------------- 70.0/124.9 MB 9.9 MB/s eta 0:00:06\n",
      "   ----------------------- ---------------- 72.9/124.9 MB 10.0 MB/s eta 0:00:06\n",
      "   ------------------------ --------------- 76.3/124.9 MB 10.2 MB/s eta 0:00:05\n",
      "   ------------------------- -------------- 79.4/124.9 MB 10.3 MB/s eta 0:00:05\n",
      "   -------------------------- ------------- 82.6/124.9 MB 10.4 MB/s eta 0:00:05\n",
      "   --------------------------- ------------ 86.0/124.9 MB 10.6 MB/s eta 0:00:04\n",
      "   ---------------------------- ----------- 88.9/124.9 MB 10.6 MB/s eta 0:00:04\n",
      "   ----------------------------- ---------- 92.0/124.9 MB 10.7 MB/s eta 0:00:04\n",
      "   ------------------------------ --------- 95.2/124.9 MB 10.8 MB/s eta 0:00:03\n",
      "   ------------------------------- -------- 98.6/124.9 MB 10.9 MB/s eta 0:00:03\n",
      "   ------------------------------- ------- 101.2/124.9 MB 11.0 MB/s eta 0:00:03\n",
      "   -------------------------------- ------ 104.3/124.9 MB 11.1 MB/s eta 0:00:02\n",
      "   --------------------------------- ----- 107.5/124.9 MB 11.2 MB/s eta 0:00:02\n",
      "   --------------------------------- ----- 108.3/124.9 MB 11.0 MB/s eta 0:00:02\n",
      "   ---------------------------------- ---- 111.1/124.9 MB 11.0 MB/s eta 0:00:02\n",
      "   ----------------------------------- --- 114.3/124.9 MB 11.1 MB/s eta 0:00:01\n",
      "   ------------------------------------ -- 117.7/124.9 MB 11.2 MB/s eta 0:00:01\n",
      "   ------------------------------------- - 120.8/124.9 MB 11.3 MB/s eta 0:00:01\n",
      "   --------------------------------------  123.5/124.9 MB 11.3 MB/s eta 0:00:01\n",
      "   --------------------------------------  124.8/124.9 MB 11.3 MB/s eta 0:00:01\n",
      "   --------------------------------------  124.8/124.9 MB 11.3 MB/s eta 0:00:01\n",
      "   --------------------------------------  124.8/124.9 MB 11.3 MB/s eta 0:00:01\n",
      "   --------------------------------------- 124.9/124.9 MB 10.6 MB/s eta 0:00:00\n",
      "Installing collected packages: xgboost\n",
      "Successfully installed xgboost-2.1.4\n"
     ]
    }
   ],
   "source": [
    "!pip install xgboost"
   ]
  },
  {
   "cell_type": "code",
   "execution_count": 6,
   "metadata": {},
   "outputs": [
    {
     "name": "stdout",
     "output_type": "stream",
     "text": [
      "Collecting graphviz\n",
      "  Downloading graphviz-0.20.3-py3-none-any.whl.metadata (12 kB)\n",
      "Downloading graphviz-0.20.3-py3-none-any.whl (47 kB)\n",
      "Installing collected packages: graphviz\n",
      "Successfully installed graphviz-0.20.3\n"
     ]
    }
   ],
   "source": [
    "!pip install graphviz"
   ]
  },
  {
   "cell_type": "code",
   "execution_count": 7,
   "metadata": {},
   "outputs": [],
   "source": [
    "# Import Libraries\n",
    "# Importing Numpy & Pandas for data processing & data wrangling\n",
    "import numpy as np\n",
    "import pandas as pd\n",
    "\n",
    "# Importing  tools for visualization\n",
    "import seaborn as sns\n",
    "import matplotlib.pyplot as plt\n",
    "\n",
    "# Import preprocessing libraries\n",
    "from sklearn.preprocessing import MinMaxScaler,StandardScaler\n",
    "\n",
    "# Import Model\n",
    "from sklearn.linear_model import LinearRegression,Lasso,Ridge\n",
    "from sklearn.tree import DecisionTreeRegressor\n",
    "from sklearn.ensemble import RandomForestRegressor,GradientBoostingRegressor\n",
    "from xgboost import XGBRegressor\n",
    "import xgboost as xgb\n",
    "\n",
    "# Import evaluation metric libraries\n",
    "from sklearn.metrics import mean_squared_error,r2_score,mean_absolute_error\n",
    "\n",
    "# Import model selection libraries\n",
    "from sklearn.model_selection import train_test_split, GridSearchCV, RandomizedSearchCV\n",
    "\n",
    "# Import tree for visualization\n",
    "from sklearn.tree import export_graphviz\n",
    "from sklearn import tree\n",
    "from IPython.display import SVG,display\n",
    "from graphviz import Source"
   ]
  },
  {
   "cell_type": "code",
   "execution_count": 8,
   "metadata": {},
   "outputs": [],
   "source": [
    "df=pd.read_csv(\"advertising.csv\")"
   ]
  },
  {
   "cell_type": "code",
   "execution_count": 10,
   "metadata": {},
   "outputs": [
    {
     "data": {
      "text/html": [
       "<div>\n",
       "<style scoped>\n",
       "    .dataframe tbody tr th:only-of-type {\n",
       "        vertical-align: middle;\n",
       "    }\n",
       "\n",
       "    .dataframe tbody tr th {\n",
       "        vertical-align: top;\n",
       "    }\n",
       "\n",
       "    .dataframe thead th {\n",
       "        text-align: right;\n",
       "    }\n",
       "</style>\n",
       "<table border=\"1\" class=\"dataframe\">\n",
       "  <thead>\n",
       "    <tr style=\"text-align: right;\">\n",
       "      <th></th>\n",
       "      <th>TV</th>\n",
       "      <th>Radio</th>\n",
       "      <th>Newspaper</th>\n",
       "      <th>Sales</th>\n",
       "    </tr>\n",
       "  </thead>\n",
       "  <tbody>\n",
       "    <tr>\n",
       "      <th>0</th>\n",
       "      <td>230.1</td>\n",
       "      <td>37.8</td>\n",
       "      <td>69.2</td>\n",
       "      <td>22.1</td>\n",
       "    </tr>\n",
       "    <tr>\n",
       "      <th>1</th>\n",
       "      <td>44.5</td>\n",
       "      <td>39.3</td>\n",
       "      <td>45.1</td>\n",
       "      <td>10.4</td>\n",
       "    </tr>\n",
       "    <tr>\n",
       "      <th>2</th>\n",
       "      <td>17.2</td>\n",
       "      <td>45.9</td>\n",
       "      <td>69.3</td>\n",
       "      <td>12.0</td>\n",
       "    </tr>\n",
       "    <tr>\n",
       "      <th>3</th>\n",
       "      <td>151.5</td>\n",
       "      <td>41.3</td>\n",
       "      <td>58.5</td>\n",
       "      <td>16.5</td>\n",
       "    </tr>\n",
       "    <tr>\n",
       "      <th>4</th>\n",
       "      <td>180.8</td>\n",
       "      <td>10.8</td>\n",
       "      <td>58.4</td>\n",
       "      <td>17.9</td>\n",
       "    </tr>\n",
       "  </tbody>\n",
       "</table>\n",
       "</div>"
      ],
      "text/plain": [
       "      TV  Radio  Newspaper  Sales\n",
       "0  230.1   37.8       69.2   22.1\n",
       "1   44.5   39.3       45.1   10.4\n",
       "2   17.2   45.9       69.3   12.0\n",
       "3  151.5   41.3       58.5   16.5\n",
       "4  180.8   10.8       58.4   17.9"
      ]
     },
     "execution_count": 10,
     "metadata": {},
     "output_type": "execute_result"
    }
   ],
   "source": [
    "df.head()"
   ]
  },
  {
   "cell_type": "code",
   "execution_count": 11,
   "metadata": {},
   "outputs": [
    {
     "name": "stdout",
     "output_type": "stream",
     "text": [
      "<class 'pandas.core.frame.DataFrame'>\n",
      "RangeIndex: 200 entries, 0 to 199\n",
      "Data columns (total 4 columns):\n",
      " #   Column     Non-Null Count  Dtype  \n",
      "---  ------     --------------  -----  \n",
      " 0   TV         200 non-null    float64\n",
      " 1   Radio      200 non-null    float64\n",
      " 2   Newspaper  200 non-null    float64\n",
      " 3   Sales      200 non-null    float64\n",
      "dtypes: float64(4)\n",
      "memory usage: 6.4 KB\n"
     ]
    }
   ],
   "source": [
    "df.info()"
   ]
  },
  {
   "cell_type": "code",
   "execution_count": 12,
   "metadata": {},
   "outputs": [
    {
     "data": {
      "text/html": [
       "<div>\n",
       "<style scoped>\n",
       "    .dataframe tbody tr th:only-of-type {\n",
       "        vertical-align: middle;\n",
       "    }\n",
       "\n",
       "    .dataframe tbody tr th {\n",
       "        vertical-align: top;\n",
       "    }\n",
       "\n",
       "    .dataframe thead th {\n",
       "        text-align: right;\n",
       "    }\n",
       "</style>\n",
       "<table border=\"1\" class=\"dataframe\">\n",
       "  <thead>\n",
       "    <tr style=\"text-align: right;\">\n",
       "      <th></th>\n",
       "      <th>TV</th>\n",
       "      <th>Radio</th>\n",
       "      <th>Newspaper</th>\n",
       "      <th>Sales</th>\n",
       "    </tr>\n",
       "  </thead>\n",
       "  <tbody>\n",
       "    <tr>\n",
       "      <th>count</th>\n",
       "      <td>200.000000</td>\n",
       "      <td>200.000000</td>\n",
       "      <td>200.000000</td>\n",
       "      <td>200.000000</td>\n",
       "    </tr>\n",
       "    <tr>\n",
       "      <th>mean</th>\n",
       "      <td>147.042500</td>\n",
       "      <td>23.264000</td>\n",
       "      <td>30.554000</td>\n",
       "      <td>15.130500</td>\n",
       "    </tr>\n",
       "    <tr>\n",
       "      <th>std</th>\n",
       "      <td>85.854236</td>\n",
       "      <td>14.846809</td>\n",
       "      <td>21.778621</td>\n",
       "      <td>5.283892</td>\n",
       "    </tr>\n",
       "    <tr>\n",
       "      <th>min</th>\n",
       "      <td>0.700000</td>\n",
       "      <td>0.000000</td>\n",
       "      <td>0.300000</td>\n",
       "      <td>1.600000</td>\n",
       "    </tr>\n",
       "    <tr>\n",
       "      <th>25%</th>\n",
       "      <td>74.375000</td>\n",
       "      <td>9.975000</td>\n",
       "      <td>12.750000</td>\n",
       "      <td>11.000000</td>\n",
       "    </tr>\n",
       "    <tr>\n",
       "      <th>50%</th>\n",
       "      <td>149.750000</td>\n",
       "      <td>22.900000</td>\n",
       "      <td>25.750000</td>\n",
       "      <td>16.000000</td>\n",
       "    </tr>\n",
       "    <tr>\n",
       "      <th>75%</th>\n",
       "      <td>218.825000</td>\n",
       "      <td>36.525000</td>\n",
       "      <td>45.100000</td>\n",
       "      <td>19.050000</td>\n",
       "    </tr>\n",
       "    <tr>\n",
       "      <th>max</th>\n",
       "      <td>296.400000</td>\n",
       "      <td>49.600000</td>\n",
       "      <td>114.000000</td>\n",
       "      <td>27.000000</td>\n",
       "    </tr>\n",
       "  </tbody>\n",
       "</table>\n",
       "</div>"
      ],
      "text/plain": [
       "               TV       Radio   Newspaper       Sales\n",
       "count  200.000000  200.000000  200.000000  200.000000\n",
       "mean   147.042500   23.264000   30.554000   15.130500\n",
       "std     85.854236   14.846809   21.778621    5.283892\n",
       "min      0.700000    0.000000    0.300000    1.600000\n",
       "25%     74.375000    9.975000   12.750000   11.000000\n",
       "50%    149.750000   22.900000   25.750000   16.000000\n",
       "75%    218.825000   36.525000   45.100000   19.050000\n",
       "max    296.400000   49.600000  114.000000   27.000000"
      ]
     },
     "execution_count": 12,
     "metadata": {},
     "output_type": "execute_result"
    }
   ],
   "source": [
    "df.describe()"
   ]
  },
  {
   "cell_type": "code",
   "execution_count": 13,
   "metadata": {},
   "outputs": [
    {
     "data": {
      "text/plain": [
       "TV           0\n",
       "Radio        0\n",
       "Newspaper    0\n",
       "Sales        0\n",
       "dtype: int64"
      ]
     },
     "execution_count": 13,
     "metadata": {},
     "output_type": "execute_result"
    }
   ],
   "source": [
    "df.isnull().sum()"
   ]
  },
  {
   "cell_type": "code",
   "execution_count": 16,
   "metadata": {},
   "outputs": [
    {
     "data": {
      "text/plain": [
       "(200, 4)"
      ]
     },
     "execution_count": 16,
     "metadata": {},
     "output_type": "execute_result"
    }
   ],
   "source": [
    "df.shape"
   ]
  },
  {
   "cell_type": "code",
   "execution_count": 17,
   "metadata": {},
   "outputs": [
    {
     "data": {
      "text/plain": [
       "np.int64(0)"
      ]
     },
     "execution_count": 17,
     "metadata": {},
     "output_type": "execute_result"
    }
   ],
   "source": [
    "df.duplicated().sum()"
   ]
  },
  {
   "cell_type": "code",
   "execution_count": 18,
   "metadata": {},
   "outputs": [
    {
     "name": "stdout",
     "output_type": "stream",
     "text": [
      "No. of unique values in TV is 190\n",
      "No. of unique values in Radio is 167\n",
      "No. of unique values in Newspaper is 172\n",
      "No. of unique values in Sales is 121\n"
     ]
    }
   ],
   "source": [
    "# Check Unique Values for each variable.\n",
    "for i in df.columns.tolist():\n",
    "  print(\"No. of unique values in\",i,\"is\",df[i].nunique())"
   ]
  },
  {
   "cell_type": "code",
   "execution_count": null,
   "metadata": {},
   "outputs": [],
   "source": [
    " "
   ]
  }
 ],
 "metadata": {
  "kernelspec": {
   "display_name": "Python 3",
   "language": "python",
   "name": "python3"
  },
  "language_info": {
   "codemirror_mode": {
    "name": "ipython",
    "version": 3
   },
   "file_extension": ".py",
   "mimetype": "text/x-python",
   "name": "python",
   "nbconvert_exporter": "python",
   "pygments_lexer": "ipython3",
   "version": "3.12.0"
  }
 },
 "nbformat": 4,
 "nbformat_minor": 2
}
